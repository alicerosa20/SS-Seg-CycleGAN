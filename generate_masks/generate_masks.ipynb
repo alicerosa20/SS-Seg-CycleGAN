{
 "cells": [
  {
   "cell_type": "code",
   "execution_count": 8,
   "metadata": {},
   "outputs": [],
   "source": [
    "import raster_geometry as rg\n",
    "import numpy as np\n",
    "from numpy.random import randint\n",
    "import random\n",
    "from tifffile import imread, imsave, imwrite\n",
    "from scipy.ndimage import rotate\n",
    "import os\n",
    "import random\n",
    "from skimage.draw import ellipse\n",
    "from volumentations import *\n",
    "from matplotlib import pyplot"
   ]
  },
  {
   "cell_type": "code",
   "execution_count": 9,
   "metadata": {
    "colab": {
     "base_uri": "https://localhost:8080/"
    },
    "executionInfo": {
     "elapsed": 26902,
     "status": "ok",
     "timestamp": 1656599871767,
     "user": {
      "displayName": "Alice Henriques da Rosa",
      "userId": "12243278505695630565"
     },
     "user_tz": -60
    },
    "id": "y_-eAIvjvUXm",
    "outputId": "b448627e-93c8-45d3-fe93-03fcdc34914c"
   },
   "outputs": [],
   "source": [
    "def get_augmentation(patch_size):\n",
    "    return Compose([\n",
    "        ElasticTransform((0.75, 0.75), interpolation=2, p=1.0)\n",
    "], p=1.0)\n",
    "\n",
    "def get_synthetic_masks(n_size, n):\n",
    "    \n",
    "    n_masks = n\n",
    "    \n",
    "    for j in range(n_masks):\n",
    "        size = n_size[j] #size of the image\n",
    "        mask = np.zeros((size[0]+128,size[1]+128,size[2],size[3])) \n",
    "        n_pairs = randint(45,70) # define random number of nuclues-golgi pairs\n",
    "        \n",
    "        for i in range(n_pairs):\n",
    "            # Create a nuclei/golgi pair\n",
    "            pair = np.zeros((128,128,size[2],3),dtype=np.uint8)\n",
    "            rot_image = np.zeros((128,128,size[2],3),dtype=np.uint8)\n",
    "            # define random size for sphere that will represent Golgi\n",
    "            sphere_size = randint(5,9)\n",
    "            pair[:,:,:,0] = rg.sphere((128,128,size[2]), sphere_size) # put it in red channel \n",
    "            # define random size for sphere that will represent the nucleus\n",
    "            nuclei_size = randint(17,30)\n",
    "            nuclei_side_2 = randint(8, 13)\n",
    "            nuclei_side_3 = randint(8, 13)\n",
    "            pos = round(random.uniform(0.45, 0.55), 2)\n",
    "            pair[:,:,:,1] = rg.ellipsoid((128,128,size[2]),(nuclei_size,nuclei_side_2,nuclei_side_3), position=pos) # put it in green channel\n",
    "\n",
    "            aug = get_augmentation((128,128,size[2]))  # get elastic transformation function\n",
    "            \n",
    "            # with mask\n",
    "            data = {'image': pair, 'mask': pair}\n",
    "            aug_data = aug(**data) # apply elastic transformation to the mask\n",
    "            img, lbl = aug_data['image'], aug_data['mask']\n",
    "            lbl = lbl.astype(np.uint8) # we only want the transformation applied to the mask\n",
    "\n",
    "            #rotate the pair randomly\n",
    "            angle = randint(0, 180) # define random rotation of the pair\n",
    "\n",
    "            rot_image = (rotate(lbl, angle, mode='constant', reshape=False)) # rotate the image\n",
    "            rot_image = (rot_image/np.max(rot_image)) # normalize mask\n",
    "            \n",
    "            # use if we dont want for the nucleus-golgi pairs to intersect with other nucleus-golgi pairs\n",
    "            # else comment and define nucleus-golgi position in the begining\n",
    "            is_all_zeros = False\n",
    "            while not(is_all_zeros):\n",
    "                x_pos = randint(0, size[0])\n",
    "                y_pos = randint(0, size[1])\n",
    "                patch = np.array(np.logical_and(mask[x_pos:x_pos+128, y_pos:y_pos+128, :, :], rot_image))\n",
    "                is_all_zeros = np.all((patch == 0))\n",
    "            \n",
    "            # insert the created pair to the mask\n",
    "            mask[x_pos:x_pos+128, y_pos:y_pos+128, :, 0] = np.array(np.logical_or(mask[x_pos:x_pos+128, y_pos:y_pos+128, :, 0], rot_image[:,:,:,0]))\n",
    "            mask[x_pos:x_pos+128, y_pos:y_pos+128, :, 1] = np.array(np.logical_or(mask[x_pos:x_pos+128, y_pos:y_pos+128, :, 1], rot_image[:,:,:,1]))\n",
    "        \n",
    "        # Save mask\n",
    "        _mask = np.zeros(size)\n",
    "        _mask = mask[64:size[0]+64,64:size[1]+64,:,:]\n",
    "        _mask = _mask*255.0\n",
    "        _mask = _mask.astype('uint8')\n",
    "\n",
    "        imwrite('./Dataset/syntethic_mask_version2/' + '/Crop' + str(j+1) + '.tif' , _mask, photometric='rgb')\n",
    "\n",
    "get_synthetic_masks([(505,618,56,3),(703,553,56,3),(668,553,56,3),(818,257,56,3),(647,627,56,3),(647,627,56,3),(557,491,55,3),(586,519,61,3)], 8)"
   ]
  },
  {
   "cell_type": "code",
   "execution_count": null,
   "metadata": {
    "colab": {
     "base_uri": "https://localhost:8080/",
     "height": 536
    },
    "executionInfo": {
     "elapsed": 1057,
     "status": "ok",
     "timestamp": 1656599915961,
     "user": {
      "displayName": "Alice Henriques da Rosa",
      "userId": "12243278505695630565"
     },
     "user_tz": -60
    },
    "id": "aBKijjwjjWne",
    "outputId": "ed87c063-c4e4-42dd-cdaa-eccea9408677"
   },
   "outputs": [],
   "source": [
    "#Visualize results\n",
    "\n",
    "from matplotlib import pyplot\n",
    "\n",
    "rot[x_pos:x_pos+64, y_pos:y_pos+64, :, 0]\n",
    "mask = imread('./Dataset/syntethic_mask_version2/Crop1.tif')\n",
    "pyplot.imshow(mask[:, :, 31, :]/255.)\n",
    "\n",
    "mask_ = imread('./Dataset/Masks/Crop1.tif')\n",
    "pyplot.figure()\n",
    "pyplot.imshow(mask_[:, :, 25, :]/255.)"
   ]
  }
 ],
 "metadata": {
  "colab": {
   "authorship_tag": "ABX9TyOGVHJWXrK05k9eqx9W+pdq",
   "name": "generate_masks.ipynb",
   "provenance": []
  },
  "gpuClass": "standard",
  "kernelspec": {
   "display_name": "Python 3.8.12 ('IST_DL21_Env')",
   "language": "python",
   "name": "python3"
  },
  "language_info": {
   "codemirror_mode": {
    "name": "ipython",
    "version": 3
   },
   "file_extension": ".py",
   "mimetype": "text/x-python",
   "name": "python",
   "nbconvert_exporter": "python",
   "pygments_lexer": "ipython3",
   "version": "3.8.12"
  },
  "vscode": {
   "interpreter": {
    "hash": "7845f17464bf822e5139edfef5ddca6842d966a89a8200e5b76388faa6c1515d"
   }
  }
 },
 "nbformat": 4,
 "nbformat_minor": 4
}
